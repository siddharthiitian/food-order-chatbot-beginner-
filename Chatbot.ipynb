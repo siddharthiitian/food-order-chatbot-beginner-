{
 "cells": [
  {
   "cell_type": "markdown",
   "metadata": {
    "id": "Br4q6Nc9A4iW"
   },
   "source": [
    "# Importing libraries and downloading packages"
   ]
  },
  {
   "cell_type": "code",
   "execution_count": null,
   "metadata": {
    "executionInfo": {
     "elapsed": 1376,
     "status": "ok",
     "timestamp": 1645713192729,
     "user": {
      "displayName": "Shobha Kanwar",
      "photoUrl": "https://lh3.googleusercontent.com/a/default-user=s64",
      "userId": "06347340486803427527"
     },
     "user_tz": -330
    },
    "id": "QNt7tOcEC48w"
   },
   "outputs": [],
   "source": [
    "import nltk\n",
    "import numpy as np"
   ]
  },
  {
   "cell_type": "code",
   "execution_count": null,
   "metadata": {
    "colab": {
     "base_uri": "https://localhost:8080/"
    },
    "executionInfo": {
     "elapsed": 1655,
     "status": "ok",
     "timestamp": 1645713210394,
     "user": {
      "displayName": "Shobha Kanwar",
      "photoUrl": "https://lh3.googleusercontent.com/a/default-user=s64",
      "userId": "06347340486803427527"
     },
     "user_tz": -330
    },
    "id": "sgKLrIjRC486",
    "outputId": "d7130119-189a-47bf-a05f-80aa753d1dda"
   },
   "outputs": [],
   "source": [
    "# downloading model to tokenize message\n",
    "nltk.download('punkt')\n",
    "# downloading stopwords\n",
    "nltk.download('stopwords')\n",
    "# downloading wordnet, which contains all lemmas of english language\n",
    "nltk.download('wordnet')"
   ]
  },
  {
   "cell_type": "code",
   "execution_count": null,
   "metadata": {
    "executionInfo": {
     "elapsed": 2,
     "status": "ok",
     "timestamp": 1645713288590,
     "user": {
      "displayName": "Shobha Kanwar",
      "photoUrl": "https://lh3.googleusercontent.com/a/default-user=s64",
      "userId": "06347340486803427527"
     },
     "user_tz": -330
    },
    "id": "Cy4x4jMmC488"
   },
   "outputs": [],
   "source": [
    "from nltk.tokenize import word_tokenize\n",
    "\n",
    "from nltk.corpus import stopwords\n",
    "stop_words = stopwords.words('english')\n",
    "\n",
    "from nltk.stem import WordNetLemmatizer"
   ]
  },
  {
   "cell_type": "code",
   "execution_count": null,
   "metadata": {
    "colab": {
     "base_uri": "https://localhost:8080/"
    },
    "executionInfo": {
     "elapsed": 2,
     "status": "ok",
     "timestamp": 1645713293242,
     "user": {
      "displayName": "Shobha Kanwar",
      "photoUrl": "https://lh3.googleusercontent.com/a/default-user=s64",
      "userId": "06347340486803427527"
     },
     "user_tz": -330
    },
    "id": "7Q3fIVZVdYDG",
    "outputId": "5c602625-891e-45dc-ef55-eb6557c3518e"
   },
   "outputs": [],
   "source": [
    "stop_words"
   ]
  },
  {
   "cell_type": "markdown",
   "metadata": {
    "id": "XW2vOhbcBMXY"
   },
   "source": [
    "# Function to clean text"
   ]
  },
  {
   "cell_type": "code",
   "execution_count": null,
   "metadata": {
    "executionInfo": {
     "elapsed": 444,
     "status": "ok",
     "timestamp": 1645713397632,
     "user": {
      "displayName": "Shobha Kanwar",
      "photoUrl": "https://lh3.googleusercontent.com/a/default-user=s64",
      "userId": "06347340486803427527"
     },
     "user_tz": -330
    },
    "id": "A_End2kUC489"
   },
   "outputs": [],
   "source": [
    "def clean_corpus(corpus):\n",
    "  # lowering every word in text\n",
    "  corpus = [ doc.lower() for doc in corpus]\n",
    "  cleaned_corpus = []\n",
    "  \n",
    "  stop_words = stopwords.words('english')\n",
    "  wordnet_lemmatizer = WordNetLemmatizer()\n",
    "\n",
    "  # iterating over every text[a,b,c]='a b c'\n",
    "  for doc in corpus:\n",
    "    # tokenizing text\n",
    "    tokens = word_tokenize(doc)\n",
    "    cleaned_sentence = [] \n",
    "    for token in tokens: \n",
    "      # removing stopwords, and punctuation\n",
    "      if token not in stop_words and token.isalpha(): \n",
    "        # applying lemmatization\n",
    "        cleaned_sentence.append(wordnet_lemmatizer.lemmatize(token)) \n",
    "    cleaned_corpus.append(' '.join(cleaned_sentence))\n",
    "  return cleaned_corpus"
   ]
  },
  {
   "cell_type": "code",
   "execution_count": null,
   "metadata": {
    "id": "1Q_dP2CozTVE"
   },
   "outputs": [],
   "source": []
  },
  {
   "cell_type": "markdown",
   "metadata": {
    "id": "97atD-mrBq_E"
   },
   "source": [
    "# Loading and cleaning intents"
   ]
  },
  {
   "cell_type": "code",
   "execution_count": null,
   "metadata": {
    "colab": {
     "base_uri": "https://localhost:8080/"
    },
    "executionInfo": {
     "elapsed": 1590,
     "status": "ok",
     "timestamp": 1645713598411,
     "user": {
      "displayName": "Shobha Kanwar",
      "photoUrl": "https://lh3.googleusercontent.com/a/default-user=s64",
      "userId": "06347340486803427527"
     },
     "user_tz": -330
    },
    "id": "KJSB62LkbzIb",
    "outputId": "2c606815-71ad-49e9-9223-72e703852348"
   },
   "outputs": [],
   "source": [
    "!wget -O intents.json https://techlearn-cdn.s3.amazonaws.com/bs_swiggy_chatbot/intent.json"
   ]
  },
  {
   "cell_type": "code",
   "execution_count": null,
   "metadata": {
    "executionInfo": {
     "elapsed": 533,
     "status": "ok",
     "timestamp": 1645713690634,
     "user": {
      "displayName": "Shobha Kanwar",
      "photoUrl": "https://lh3.googleusercontent.com/a/default-user=s64",
      "userId": "06347340486803427527"
     },
     "user_tz": -330
    },
    "id": "BklOwtYLC48-"
   },
   "outputs": [],
   "source": [
    "import json\n",
    "with open('intents.json', 'r') as file:\n",
    "  intents = json.load(file)"
   ]
  },
  {
   "cell_type": "code",
   "execution_count": null,
   "metadata": {
    "executionInfo": {
     "elapsed": 489,
     "status": "ok",
     "timestamp": 1645713732384,
     "user": {
      "displayName": "Shobha Kanwar",
      "photoUrl": "https://lh3.googleusercontent.com/a/default-user=s64",
      "userId": "06347340486803427527"
     },
     "user_tz": -330
    },
    "id": "6CEzIy-WC48_"
   },
   "outputs": [],
   "source": [
    "corpus = []\n",
    "tags = []\n",
    "\n",
    "for intent in intents['intents']:\n",
    "    # taking all patterns in intents to train a neural network\n",
    "    for pattern in intent['patterns']:\n",
    "        corpus.append(pattern)\n",
    "        tags.append(intent['tag'])"
   ]
  },
  {
   "cell_type": "code",
   "execution_count": null,
   "metadata": {
    "id": "m_z4eHK5-mck"
   },
   "outputs": [],
   "source": []
  },
  {
   "cell_type": "code",
   "execution_count": null,
   "metadata": {
    "colab": {
     "base_uri": "https://localhost:8080/"
    },
    "executionInfo": {
     "elapsed": 1707,
     "status": "ok",
     "timestamp": 1645713752965,
     "user": {
      "displayName": "Shobha Kanwar",
      "photoUrl": "https://lh3.googleusercontent.com/a/default-user=s64",
      "userId": "06347340486803427527"
     },
     "user_tz": -330
    },
    "id": "_jqWKIzkC48_",
    "outputId": "0163ff2d-fb59-47ef-8aaf-453e1fbaab03"
   },
   "outputs": [],
   "source": [
    "cleaned_corpus = clean_corpus(corpus)\n",
    "cleaned_corpus"
   ]
  },
  {
   "cell_type": "markdown",
   "metadata": {
    "id": "h5nAAo7PB1Kz"
   },
   "source": [
    "# Vectorizing intents"
   ]
  },
  {
   "cell_type": "code",
   "execution_count": null,
   "metadata": {
    "executionInfo": {
     "elapsed": 474,
     "status": "ok",
     "timestamp": 1645714011988,
     "user": {
      "displayName": "Shobha Kanwar",
      "photoUrl": "https://lh3.googleusercontent.com/a/default-user=s64",
      "userId": "06347340486803427527"
     },
     "user_tz": -330
    },
    "id": "1Y_ngS1NC49A"
   },
   "outputs": [],
   "source": [
    "from sklearn.feature_extraction.text import TfidfVectorizer\n",
    "\n",
    "vectorizer = TfidfVectorizer()\n",
    "X = vectorizer.fit_transform(cleaned_corpus)"
   ]
  },
  {
   "cell_type": "code",
   "execution_count": null,
   "metadata": {
    "executionInfo": {
     "elapsed": 584,
     "status": "ok",
     "timestamp": 1645714040740,
     "user": {
      "displayName": "Shobha Kanwar",
      "photoUrl": "https://lh3.googleusercontent.com/a/default-user=s64",
      "userId": "06347340486803427527"
     },
     "user_tz": -330
    },
    "id": "8PekvuYZDaAH"
   },
   "outputs": [],
   "source": [
    "from sklearn.preprocessing import OneHotEncoder\n",
    "\n",
    "encoder = OneHotEncoder()\n",
    "y = encoder.fit_transform(np.array(tags).reshape(-1,1))"
   ]
  },
  {
   "cell_type": "markdown",
   "metadata": {
    "id": "BPtJ-gk5B5kN"
   },
   "source": [
    "# Training neural network"
   ]
  },
  {
   "cell_type": "code",
   "execution_count": null,
   "metadata": {
    "colab": {
     "base_uri": "https://localhost:8080/"
    },
    "executionInfo": {
     "elapsed": 2837,
     "status": "ok",
     "timestamp": 1645714208224,
     "user": {
      "displayName": "Shobha Kanwar",
      "photoUrl": "https://lh3.googleusercontent.com/a/default-user=s64",
      "userId": "06347340486803427527"
     },
     "user_tz": -330
    },
    "id": "RT_NXJApEYdr",
    "outputId": "cbb75225-df04-43e3-ca39-04c1f648e8b0"
   },
   "outputs": [],
   "source": [
    "from tensorflow.keras import Sequential\n",
    "from tensorflow.keras.layers import Dense, Dropout\n",
    "\n",
    "model = Sequential([\n",
    "                    Dense(128, input_shape=(X.shape[1],), activation='relu'),\n",
    "                    Dropout(0.2),\n",
    "                    Dense(64, activation='relu'),\n",
    "                    Dropout(0.2),\n",
    "                    Dense(y.shape[1], activation='softmax')\n",
    "])\n",
    "\n",
    "model.compile(loss='categorical_crossentropy', optimizer='adam', metrics=['accuracy'])\n",
    "model.summary()"
   ]
  },
  {
   "cell_type": "code",
   "execution_count": null,
   "metadata": {
    "colab": {
     "base_uri": "https://localhost:8080/"
    },
    "executionInfo": {
     "elapsed": 4113,
     "status": "ok",
     "timestamp": 1645714239196,
     "user": {
      "displayName": "Shobha Kanwar",
      "photoUrl": "https://lh3.googleusercontent.com/a/default-user=s64",
      "userId": "06347340486803427527"
     },
     "user_tz": -330
    },
    "id": "hQif3TZ2FwbK",
    "outputId": "2cc47510-0316-4019-9d7d-67aeebbdebd2"
   },
   "outputs": [],
   "source": [
    "history = model.fit(X.toarray(), y.toarray(), epochs=20, batch_size=1)"
   ]
  },
  {
   "cell_type": "markdown",
   "metadata": {
    "id": "vhbHBoOhB_hm"
   },
   "source": [
    "# Classifying messages to intent"
   ]
  },
  {
   "cell_type": "markdown",
   "metadata": {
    "id": "h9PNlGPAVwQW"
   },
   "source": [
    "1. If the intent probability does not match with any intent, then send it to no answer.\n",
    "\n",
    "2. Get Intent\n",
    "\n",
    "3. Perform Action\n"
   ]
  },
  {
   "cell_type": "code",
   "execution_count": null,
   "metadata": {
    "colab": {
     "base_uri": "https://localhost:8080/"
    },
    "executionInfo": {
     "elapsed": 638,
     "status": "ok",
     "timestamp": 1645714457767,
     "user": {
      "displayName": "Shobha Kanwar",
      "photoUrl": "https://lh3.googleusercontent.com/a/default-user=s64",
      "userId": "06347340486803427527"
     },
     "user_tz": -330
    },
    "id": "xoEL5PgKG-sv",
    "outputId": "f25364b2-3b9a-47cc-9da4-114031c2f909"
   },
   "outputs": [],
   "source": [
    "# if prediction for every tag is low, then we want to classify that message as noanswer\n",
    "\n",
    "INTENT_NOT_FOUND_THRESHOLD = 0.40\n",
    "\n",
    "def predict_intent_tag(message):\n",
    "  message = clean_corpus([message])\n",
    "  X_test = vectorizer.transform(message)\n",
    "  #print(message)\n",
    "  #print(X_test.toarray())\n",
    "  y = model.predict(X_test.toarray())\n",
    "  #print (y)\n",
    "  # if probability of all intent is low, classify it as noanswer\n",
    "  if y.max() < INTENT_NOT_FOUND_THRESHOLD:\n",
    "    return 'noanswer'\n",
    "  \n",
    "  prediction = np.zeros_like(y[0])\n",
    "  prediction[y.argmax()] = 1\n",
    "  tag = encoder.inverse_transform([prediction])[0][0]\n",
    "  return tag\n",
    "\n",
    "print(predict_intent_tag('How you could help me?'))\n",
    "print(predict_intent_tag('swiggy chat bot'))\n",
    "print(predict_intent_tag('Where\\'s my order'))\n"
   ]
  },
  {
   "cell_type": "code",
   "execution_count": null,
   "metadata": {
    "executionInfo": {
     "elapsed": 561,
     "status": "ok",
     "timestamp": 1645714491503,
     "user": {
      "displayName": "Shobha Kanwar",
      "photoUrl": "https://lh3.googleusercontent.com/a/default-user=s64",
      "userId": "06347340486803427527"
     },
     "user_tz": -330
    },
    "id": "VSM0pSo-P91L"
   },
   "outputs": [],
   "source": [
    "import random\n",
    "import time "
   ]
  },
  {
   "cell_type": "code",
   "execution_count": null,
   "metadata": {
    "executionInfo": {
     "elapsed": 467,
     "status": "ok",
     "timestamp": 1645714523121,
     "user": {
      "displayName": "Shobha Kanwar",
      "photoUrl": "https://lh3.googleusercontent.com/a/default-user=s64",
      "userId": "06347340486803427527"
     },
     "user_tz": -330
    },
    "id": "ziNmSPKCLJSz"
   },
   "outputs": [],
   "source": [
    "def get_intent(tag):\n",
    "  # to return complete intent from intent tag\n",
    "  for intent in intents['intents']:\n",
    "    if intent['tag'] == tag:\n",
    "      return intent"
   ]
  },
  {
   "cell_type": "code",
   "execution_count": null,
   "metadata": {
    "executionInfo": {
     "elapsed": 562,
     "status": "ok",
     "timestamp": 1645714622498,
     "user": {
      "displayName": "Shobha Kanwar",
      "photoUrl": "https://lh3.googleusercontent.com/a/default-user=s64",
      "userId": "06347340486803427527"
     },
     "user_tz": -330
    },
    "id": "H0x8dXrlPjIp"
   },
   "outputs": [],
   "source": [
    "def perform_action(action_code, intent):\n",
    "  # funition to perform an action which is required by intent\n",
    "  \n",
    "  if action_code == 'CHECK_ORDER_STATUS':\n",
    "    print('\\n Checking database \\n')\n",
    "    time.sleep(2)\n",
    "    order_status = ['in kitchen', 'with delivery executive']\n",
    "    delivery_time = []\n",
    "    return {'intent-tag':intent['next-intent-tag'][0],\n",
    "            'order_status': random.choice(order_status),\n",
    "            'delivery_time': random.randint(10, 30)}\n",
    "  \n",
    "  elif action_code == 'ORDER_CANCEL_CONFIRMATION':\n",
    "    ch = input('BOT: Do you want to continue (Y/n) ?')\n",
    "    if ch == 'y' or ch == 'Y':\n",
    "      choice = 0\n",
    "    else:\n",
    "      choice = 1\n",
    "    return {'intent-tag':intent['next-intent-tag'][choice]}\n",
    "  \n",
    "  elif action_code == 'ADD_DELIVERY_INSTRUCTIONS':\n",
    "    instructions = input('Your Instructions: ')\n",
    "    return {'intent-tag':intent['next-intent-tag'][0]}"
   ]
  },
  {
   "cell_type": "markdown",
   "metadata": {
    "id": "zg_Ct0YQCry5"
   },
   "source": [
    "# Complete chat bot"
   ]
  },
  {
   "cell_type": "code",
   "execution_count": null,
   "metadata": {
    "colab": {
     "base_uri": "https://localhost:8080/"
    },
    "executionInfo": {
     "elapsed": 123048,
     "status": "ok",
     "timestamp": 1645714859133,
     "user": {
      "displayName": "Shobha Kanwar",
      "photoUrl": "https://lh3.googleusercontent.com/a/default-user=s64",
      "userId": "06347340486803427527"
     },
     "user_tz": -330
    },
    "id": "axwe43o_JRm6",
    "outputId": "37b75c48-22d1-4d9c-e873-31304ab64404"
   },
   "outputs": [],
   "source": [
    "while True:\n",
    "  # get message from user\n",
    "  message = input('You: ')\n",
    "  # predict intent tag using trained neural network\n",
    "  tag = predict_intent_tag(message)\n",
    "  # get complete intent from intent tag\n",
    "  intent = get_intent(tag)\n",
    "  # generate random response from intent\n",
    "  response = random.choice(intent['responses'])\n",
    "  print('Bot: ', response)\n",
    "\n",
    "  # check if there's a need to perform some action\n",
    "  if 'action' in intent.keys():\n",
    "    action_code = intent['action']\n",
    "    # perform action\n",
    "    data = perform_action(action_code, intent)\n",
    "    # get follow up intent after performing action\n",
    "    followup_intent = get_intent(data['intent-tag'])\n",
    "    # generate random response from follow up intent\n",
    "    response = random.choice(followup_intent['responses'])\n",
    "    \n",
    "    # print randomly selected response\n",
    "    if len(data.keys()) > 1:\n",
    "      print('Bot: ', response.format(**data))\n",
    "    else:\n",
    "      print('Bot: ', response)\n",
    "\n",
    "  # break loop if intent was goodbye\n",
    "  if tag == 'goodbye':\n",
    "    break"
   ]
  },
  {
   "cell_type": "code",
   "execution_count": null,
   "metadata": {
    "id": "nf7MYxw5F3qQ"
   },
   "outputs": [],
   "source": []
  },
  {
   "cell_type": "code",
   "execution_count": null,
   "metadata": {
    "id": "xBF59q4X9vkq"
   },
   "outputs": [],
   "source": []
  },
  {
   "cell_type": "code",
   "execution_count": null,
   "metadata": {
    "id": "kO_gfwKi9sPZ"
   },
   "outputs": [],
   "source": []
  },
  {
   "cell_type": "code",
   "execution_count": null,
   "metadata": {
    "id": "NNIlpnMWgCRu"
   },
   "outputs": [],
   "source": [
    "Code - https://drive.google.com/file/d/1tYRUvmwJ7Tb8kF-jEQCvdSOEGr4G3nTm/view?usp=sharing\n",
    "linkedin - https://www.linkedin.com/in/shobha-kanwar-bbb414131/\n"
   ]
  },
  {
   "cell_type": "markdown",
   "metadata": {
    "id": "EE1Av-2PEJPE"
   },
   "source": [
    "support@techlearn.live"
   ]
  },
  {
   "cell_type": "code",
   "execution_count": null,
   "metadata": {},
   "outputs": [],
   "source": []
  },
  {
   "cell_type": "code",
   "execution_count": null,
   "metadata": {},
   "outputs": [],
   "source": []
  }
 ],
 "metadata": {
  "colab": {
   "collapsed_sections": [],
   "name": "Chatbot.ipynb",
   "provenance": []
  },
  "kernelspec": {
   "display_name": "Python 3 (ipykernel)",
   "language": "python",
   "name": "python3"
  },
  "language_info": {
   "codemirror_mode": {
    "name": "ipython",
    "version": 3
   },
   "file_extension": ".py",
   "mimetype": "text/x-python",
   "name": "python",
   "nbconvert_exporter": "python",
   "pygments_lexer": "ipython3",
   "version": "3.9.7"
  }
 },
 "nbformat": 4,
 "nbformat_minor": 1
}
